{
 "cells": [
  {
   "cell_type": "markdown",
   "id": "3fdc960d",
   "metadata": {},
   "source": [
    "# Pandas Kütüphanesi: 10 Fonksiyon ve Kullanım Örnekleri\n",
    "\n"
   ]
  },
  {
   "cell_type": "markdown",
   "id": "1084e6fb",
   "metadata": {},
   "source": [
    "## 1. head() Fonksiyonu\n",
    "İlk birkaç satırı getirir."
   ]
  },
  {
   "cell_type": "code",
   "execution_count": null,
   "id": "7994ffaf",
   "metadata": {},
   "outputs": [],
   "source": [
    "df.head()"
   ]
  },
  {
   "cell_type": "markdown",
   "id": "7816617f",
   "metadata": {},
   "source": [
    "## 2. tail() Fonksiyonu\n",
    "Son birkaç satırı getirir."
   ]
  },
  {
   "cell_type": "code",
   "execution_count": null,
   "id": "97b4f9db",
   "metadata": {},
   "outputs": [],
   "source": [
    "df.tail()"
   ]
  },
  {
   "cell_type": "markdown",
   "id": "042b2349",
   "metadata": {},
   "source": [
    "## 3. info() Fonksiyonu\n",
    "Veri çerçevesi hakkında bilgi verir."
   ]
  },
  {
   "cell_type": "code",
   "execution_count": null,
   "id": "b7787527",
   "metadata": {},
   "outputs": [],
   "source": [
    "df.info()"
   ]
  },
  {
   "cell_type": "markdown",
   "id": "328d53af",
   "metadata": {},
   "source": [
    "## 4. describe() Fonksiyonu\n",
    "Sayısal sütunlar için özet istatistikleri verir."
   ]
  },
  {
   "cell_type": "code",
   "execution_count": null,
   "id": "4af00625",
   "metadata": {},
   "outputs": [],
   "source": [
    "df.describe()"
   ]
  },
  {
   "cell_type": "markdown",
   "id": "f6410697",
   "metadata": {},
   "source": [
    "## 5. isnull() Fonksiyonu\n",
    "Eksik değerleri kontrol eder."
   ]
  },
  {
   "cell_type": "code",
   "execution_count": null,
   "id": "53d12a7a",
   "metadata": {},
   "outputs": [],
   "source": [
    "df.isnull()"
   ]
  },
  {
   "cell_type": "markdown",
   "id": "498e2cf1",
   "metadata": {},
   "source": [
    "## 6. drop() Fonksiyonu\n",
    "Belirtilen sütunu kaldırır."
   ]
  },
  {
   "cell_type": "code",
   "execution_count": null,
   "id": "9fc02b64",
   "metadata": {},
   "outputs": [],
   "source": [
    "df.drop(columns=[\"C\"])"
   ]
  },
  {
   "cell_type": "markdown",
   "id": "f29521c8",
   "metadata": {},
   "source": [
    "## 7. fillna() Fonksiyonu\n",
    "Eksik değerleri belirli bir değerle doldurur."
   ]
  },
  {
   "cell_type": "code",
   "execution_count": null,
   "id": "39d2b5a8",
   "metadata": {},
   "outputs": [],
   "source": [
    "df.fillna(0)"
   ]
  },
  {
   "cell_type": "markdown",
   "id": "2454e3b4",
   "metadata": {},
   "source": [
    "## 8. groupby() Fonksiyonu\n",
    "Gruplama işlemleri yapar."
   ]
  },
  {
   "cell_type": "code",
   "execution_count": null,
   "id": "28cb73c2",
   "metadata": {},
   "outputs": [],
   "source": [
    "df.groupby(\"B\").sum()"
   ]
  },
  {
   "cell_type": "markdown",
   "id": "e05433ba",
   "metadata": {},
   "source": [
    "## 9. apply() Fonksiyonu\n",
    "Fonksiyonları satır veya sütunlara uygular."
   ]
  },
  {
   "cell_type": "code",
   "execution_count": null,
   "id": "0c6825ab",
   "metadata": {},
   "outputs": [],
   "source": [
    "df[\"A\"].apply(lambda x: x**2)"
   ]
  },
  {
   "cell_type": "markdown",
   "id": "c1f01fde",
   "metadata": {},
   "source": [
    "## 10. merge() Fonksiyonu\n",
    "İki veri çerçevesini birleştirir."
   ]
  },
  {
   "cell_type": "code",
   "execution_count": null,
   "id": "ba8428c6",
   "metadata": {},
   "outputs": [],
   "source": [
    "df.merge(df2, on=\"A\", how=\"left\")"
   ]
  }
 ],
 "metadata": {
  "kernelspec": {
   "display_name": "Python 3 (ipykernel)",
   "language": "python",
   "name": "python3"
  },
  "language_info": {
   "codemirror_mode": {
    "name": "ipython",
    "version": 3
   },
   "file_extension": ".py",
   "mimetype": "text/x-python",
   "name": "python",
   "nbconvert_exporter": "python",
   "pygments_lexer": "ipython3",
   "version": "3.11.5"
  }
 },
 "nbformat": 4,
 "nbformat_minor": 5
}
